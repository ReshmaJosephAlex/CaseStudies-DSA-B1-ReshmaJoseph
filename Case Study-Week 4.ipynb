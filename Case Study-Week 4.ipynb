{
 "cells": [
  {
   "cell_type": "markdown",
   "id": "539f21f8",
   "metadata": {},
   "source": [
    "# Case study on Presentation of data"
   ]
  },
  {
   "cell_type": "markdown",
   "id": "81e56213",
   "metadata": {},
   "source": [
    "Do the following operations on ‘cars_data’ dataset:\n",
    "1. Read the dataset to the python environment.\n",
    "2. Check for the null values present in the dataset.\n",
    "3. Plot a bar graph of male vs female buyers participated in the sales.\n",
    "4. Find the top 5 cars based on their sales price.\n",
    "5. Find the least 5 cars based on their Resell price"
   ]
  },
  {
   "cell_type": "markdown",
   "id": "766d8297",
   "metadata": {},
   "source": [
    "Importing required libraries"
   ]
  },
  {
   "cell_type": "code",
   "execution_count": 1,
   "id": "c789aa38",
   "metadata": {},
   "outputs": [],
   "source": [
    "import numpy as np\n",
    "import pandas as pd\n",
    "import matplotlib.pyplot as plt\n",
    "import seaborn as sns"
   ]
  },
  {
   "cell_type": "markdown",
   "id": "67310883",
   "metadata": {},
   "source": [
    "### 1. Read the dataset to the python environment."
   ]
  },
  {
   "cell_type": "markdown",
   "id": "c6160466",
   "metadata": {},
   "source": [
    "Note: Data is in the same directory as python file"
   ]
  },
  {
   "cell_type": "code",
   "execution_count": 2,
   "id": "9ca1a6fa",
   "metadata": {
    "scrolled": true
   },
   "outputs": [
    {
     "data": {
      "text/html": [
       "<div>\n",
       "<style scoped>\n",
       "    .dataframe tbody tr th:only-of-type {\n",
       "        vertical-align: middle;\n",
       "    }\n",
       "\n",
       "    .dataframe tbody tr th {\n",
       "        vertical-align: top;\n",
       "    }\n",
       "\n",
       "    .dataframe thead th {\n",
       "        text-align: right;\n",
       "    }\n",
       "</style>\n",
       "<table border=\"1\" class=\"dataframe\">\n",
       "  <thead>\n",
       "    <tr style=\"text-align: right;\">\n",
       "      <th></th>\n",
       "      <th>Make</th>\n",
       "      <th>Model</th>\n",
       "      <th>Nickname</th>\n",
       "      <th>Car Gender</th>\n",
       "      <th>Buyer Gender</th>\n",
       "      <th>Buyer Age</th>\n",
       "      <th>Buzzword</th>\n",
       "      <th>Country</th>\n",
       "      <th>City</th>\n",
       "      <th>Dealer Latitude</th>\n",
       "      <th>Dealer Longitude</th>\n",
       "      <th>Color</th>\n",
       "      <th>New Car</th>\n",
       "      <th>Purchase Date</th>\n",
       "      <th>Sale Price</th>\n",
       "      <th>Discount</th>\n",
       "      <th>Resell Price</th>\n",
       "      <th>5-yr Depreciation</th>\n",
       "      <th>Top Speed</th>\n",
       "      <th>0-60 Time</th>\n",
       "    </tr>\n",
       "  </thead>\n",
       "  <tbody>\n",
       "    <tr>\n",
       "      <th>0</th>\n",
       "      <td>Suzuki</td>\n",
       "      <td>Vitara</td>\n",
       "      <td>Philippine</td>\n",
       "      <td>Female</td>\n",
       "      <td>Female</td>\n",
       "      <td>51</td>\n",
       "      <td>User-friendly</td>\n",
       "      <td>Belgium</td>\n",
       "      <td>Antwerpen</td>\n",
       "      <td>51.247239</td>\n",
       "      <td>4.440346</td>\n",
       "      <td>Yellow</td>\n",
       "      <td>False</td>\n",
       "      <td>19/07/2009</td>\n",
       "      <td>54806.14</td>\n",
       "      <td>0.2467</td>\n",
       "      <td>33858.32</td>\n",
       "      <td>0.13</td>\n",
       "      <td>200.9</td>\n",
       "      <td>11.5</td>\n",
       "    </tr>\n",
       "    <tr>\n",
       "      <th>1</th>\n",
       "      <td>Honda</td>\n",
       "      <td>S2000</td>\n",
       "      <td>Henrik</td>\n",
       "      <td>Male</td>\n",
       "      <td>Male</td>\n",
       "      <td>30</td>\n",
       "      <td>analyzing</td>\n",
       "      <td>China</td>\n",
       "      <td>Jinhu</td>\n",
       "      <td>33.025433</td>\n",
       "      <td>119.020584</td>\n",
       "      <td>Crimson</td>\n",
       "      <td>False</td>\n",
       "      <td>26/10/2015</td>\n",
       "      <td>51826.30</td>\n",
       "      <td>0.3147</td>\n",
       "      <td>2989.28</td>\n",
       "      <td>0.02</td>\n",
       "      <td>158.5</td>\n",
       "      <td>8.8</td>\n",
       "    </tr>\n",
       "    <tr>\n",
       "      <th>2</th>\n",
       "      <td>BMW</td>\n",
       "      <td>Z4</td>\n",
       "      <td>Lebbie</td>\n",
       "      <td>Male</td>\n",
       "      <td>Female</td>\n",
       "      <td>54</td>\n",
       "      <td>software</td>\n",
       "      <td>China</td>\n",
       "      <td>Gemo</td>\n",
       "      <td>30.916207</td>\n",
       "      <td>121.677640</td>\n",
       "      <td>Khaki</td>\n",
       "      <td>False</td>\n",
       "      <td>28/03/2010</td>\n",
       "      <td>82929.14</td>\n",
       "      <td>0.5414</td>\n",
       "      <td>35049.16</td>\n",
       "      <td>0.24</td>\n",
       "      <td>149.5</td>\n",
       "      <td>14.4</td>\n",
       "    </tr>\n",
       "    <tr>\n",
       "      <th>3</th>\n",
       "      <td>Toyota</td>\n",
       "      <td>Tacoma</td>\n",
       "      <td>Jefferey</td>\n",
       "      <td>Female</td>\n",
       "      <td>Male</td>\n",
       "      <td>68</td>\n",
       "      <td>monitoring</td>\n",
       "      <td>Portugal</td>\n",
       "      <td>Queluz de Baixo</td>\n",
       "      <td>38.745168</td>\n",
       "      <td>-9.267087</td>\n",
       "      <td>Puce</td>\n",
       "      <td>False</td>\n",
       "      <td>07/05/2008</td>\n",
       "      <td>56928.66</td>\n",
       "      <td>0.0850</td>\n",
       "      <td>8236.15</td>\n",
       "      <td>0.20</td>\n",
       "      <td>153.3</td>\n",
       "      <td>11.5</td>\n",
       "    </tr>\n",
       "    <tr>\n",
       "      <th>4</th>\n",
       "      <td>Ford</td>\n",
       "      <td>Festiva</td>\n",
       "      <td>Glendon</td>\n",
       "      <td>Female</td>\n",
       "      <td>Male</td>\n",
       "      <td>70</td>\n",
       "      <td>Sharable</td>\n",
       "      <td>Latvia</td>\n",
       "      <td>Jaunpils</td>\n",
       "      <td>56.729980</td>\n",
       "      <td>23.016588</td>\n",
       "      <td>Yellow</td>\n",
       "      <td>False</td>\n",
       "      <td>01/06/2008</td>\n",
       "      <td>77201.26</td>\n",
       "      <td>0.1642</td>\n",
       "      <td>32765.76</td>\n",
       "      <td>0.18</td>\n",
       "      <td>122.0</td>\n",
       "      <td>14.9</td>\n",
       "    </tr>\n",
       "  </tbody>\n",
       "</table>\n",
       "</div>"
      ],
      "text/plain": [
       "     Make    Model    Nickname Car Gender Buyer Gender  Buyer Age  \\\n",
       "0  Suzuki   Vitara  Philippine     Female       Female         51   \n",
       "1   Honda    S2000      Henrik       Male         Male         30   \n",
       "2     BMW       Z4      Lebbie       Male       Female         54   \n",
       "3  Toyota   Tacoma    Jefferey     Female         Male         68   \n",
       "4    Ford  Festiva     Glendon     Female         Male         70   \n",
       "\n",
       "        Buzzword   Country             City  Dealer Latitude  \\\n",
       "0  User-friendly   Belgium        Antwerpen        51.247239   \n",
       "1      analyzing     China            Jinhu        33.025433   \n",
       "2       software     China             Gemo        30.916207   \n",
       "3     monitoring  Portugal  Queluz de Baixo        38.745168   \n",
       "4       Sharable    Latvia         Jaunpils        56.729980   \n",
       "\n",
       "   Dealer Longitude    Color  New Car Purchase Date  Sale Price  Discount  \\\n",
       "0          4.440346   Yellow    False    19/07/2009    54806.14    0.2467   \n",
       "1        119.020584  Crimson    False    26/10/2015    51826.30    0.3147   \n",
       "2        121.677640    Khaki    False    28/03/2010    82929.14    0.5414   \n",
       "3         -9.267087     Puce    False    07/05/2008    56928.66    0.0850   \n",
       "4         23.016588   Yellow    False    01/06/2008    77201.26    0.1642   \n",
       "\n",
       "   Resell Price  5-yr Depreciation  Top Speed  0-60 Time  \n",
       "0      33858.32               0.13      200.9       11.5  \n",
       "1       2989.28               0.02      158.5        8.8  \n",
       "2      35049.16               0.24      149.5       14.4  \n",
       "3       8236.15               0.20      153.3       11.5  \n",
       "4      32765.76               0.18      122.0       14.9  "
      ]
     },
     "execution_count": 2,
     "metadata": {},
     "output_type": "execute_result"
    }
   ],
   "source": [
    "data=pd.read_csv(\"cars_data.csv\")\n",
    "data.head()"
   ]
  },
  {
   "cell_type": "markdown",
   "id": "b61920d0",
   "metadata": {},
   "source": [
    "Comment: Data is read from csv file using read_csv() function and first 5 samples are displayed using head() function"
   ]
  },
  {
   "cell_type": "markdown",
   "id": "bb169e93",
   "metadata": {},
   "source": [
    "### 2. Check for the null values present in the dataset."
   ]
  },
  {
   "cell_type": "markdown",
   "id": "6604f5dc",
   "metadata": {},
   "source": [
    "Using info() function to check overall entries and if there is any null entries"
   ]
  },
  {
   "cell_type": "code",
   "execution_count": 3,
   "id": "a7609236",
   "metadata": {},
   "outputs": [
    {
     "name": "stdout",
     "output_type": "stream",
     "text": [
      "<class 'pandas.core.frame.DataFrame'>\n",
      "RangeIndex: 10000 entries, 0 to 9999\n",
      "Data columns (total 20 columns):\n",
      " #   Column             Non-Null Count  Dtype  \n",
      "---  ------             --------------  -----  \n",
      " 0   Make               10000 non-null  object \n",
      " 1   Model              10000 non-null  object \n",
      " 2   Nickname           10000 non-null  object \n",
      " 3   Car Gender         10000 non-null  object \n",
      " 4   Buyer Gender       10000 non-null  object \n",
      " 5   Buyer Age          10000 non-null  int64  \n",
      " 6   Buzzword           10000 non-null  object \n",
      " 7   Country            10000 non-null  object \n",
      " 8   City               10000 non-null  object \n",
      " 9   Dealer Latitude    10000 non-null  float64\n",
      " 10  Dealer Longitude   10000 non-null  float64\n",
      " 11  Color              10000 non-null  object \n",
      " 12  New Car            10000 non-null  bool   \n",
      " 13  Purchase Date      10000 non-null  object \n",
      " 14  Sale Price         10000 non-null  float64\n",
      " 15  Discount           10000 non-null  float64\n",
      " 16  Resell Price       10000 non-null  float64\n",
      " 17  5-yr Depreciation  10000 non-null  float64\n",
      " 18  Top Speed          10000 non-null  float64\n",
      " 19  0-60 Time          10000 non-null  float64\n",
      "dtypes: bool(1), float64(8), int64(1), object(10)\n",
      "memory usage: 1.5+ MB\n"
     ]
    }
   ],
   "source": [
    "data.info()"
   ]
  },
  {
   "cell_type": "markdown",
   "id": "12ee7884",
   "metadata": {},
   "source": [
    "Double checking using isnull() function"
   ]
  },
  {
   "cell_type": "code",
   "execution_count": 4,
   "id": "b715f835",
   "metadata": {},
   "outputs": [
    {
     "data": {
      "text/plain": [
       "False"
      ]
     },
     "execution_count": 4,
     "metadata": {},
     "output_type": "execute_result"
    }
   ],
   "source": [
    "data.isnull().values.any()"
   ]
  },
  {
   "cell_type": "markdown",
   "id": "66435859",
   "metadata": {},
   "source": [
    "Comment: any () function returned False which meant none of the iterated element is True. "
   ]
  },
  {
   "cell_type": "markdown",
   "id": "7a64d395",
   "metadata": {},
   "source": [
    "### 3. Plot a bar graph of male vs female buyers participated in the sales."
   ]
  },
  {
   "cell_type": "markdown",
   "id": "2ed9e2bd",
   "metadata": {},
   "source": [
    "Configuring styles"
   ]
  },
  {
   "cell_type": "code",
   "execution_count": 5,
   "id": "80f88a84",
   "metadata": {},
   "outputs": [],
   "source": [
    "sns.set_style(\"darkgrid\")\n",
    "plt.rcParams['font.size'] = 14\n",
    "plt.rcParams['figure.figsize'] = (9, 5)\n",
    "plt.rcParams['figure.facecolor'] = '#00000000'\n",
    "%matplotlib inline"
   ]
  },
  {
   "cell_type": "markdown",
   "id": "c56f1ac0",
   "metadata": {},
   "source": [
    "Displaying sample data for reference"
   ]
  },
  {
   "cell_type": "code",
   "execution_count": 6,
   "id": "4efffa7f",
   "metadata": {},
   "outputs": [
    {
     "data": {
      "text/html": [
       "<div>\n",
       "<style scoped>\n",
       "    .dataframe tbody tr th:only-of-type {\n",
       "        vertical-align: middle;\n",
       "    }\n",
       "\n",
       "    .dataframe tbody tr th {\n",
       "        vertical-align: top;\n",
       "    }\n",
       "\n",
       "    .dataframe thead th {\n",
       "        text-align: right;\n",
       "    }\n",
       "</style>\n",
       "<table border=\"1\" class=\"dataframe\">\n",
       "  <thead>\n",
       "    <tr style=\"text-align: right;\">\n",
       "      <th></th>\n",
       "      <th>Make</th>\n",
       "      <th>Model</th>\n",
       "      <th>Nickname</th>\n",
       "      <th>Car Gender</th>\n",
       "      <th>Buyer Gender</th>\n",
       "      <th>Buyer Age</th>\n",
       "      <th>Buzzword</th>\n",
       "      <th>Country</th>\n",
       "      <th>City</th>\n",
       "      <th>Dealer Latitude</th>\n",
       "      <th>Dealer Longitude</th>\n",
       "      <th>Color</th>\n",
       "      <th>New Car</th>\n",
       "      <th>Purchase Date</th>\n",
       "      <th>Sale Price</th>\n",
       "      <th>Discount</th>\n",
       "      <th>Resell Price</th>\n",
       "      <th>5-yr Depreciation</th>\n",
       "      <th>Top Speed</th>\n",
       "      <th>0-60 Time</th>\n",
       "    </tr>\n",
       "  </thead>\n",
       "  <tbody>\n",
       "    <tr>\n",
       "      <th>7582</th>\n",
       "      <td>Cadillac</td>\n",
       "      <td>Escalade</td>\n",
       "      <td>Zorah</td>\n",
       "      <td>Female</td>\n",
       "      <td>Female</td>\n",
       "      <td>59</td>\n",
       "      <td>local area network</td>\n",
       "      <td>Indonesia</td>\n",
       "      <td>Tadabliro</td>\n",
       "      <td>-8.684700</td>\n",
       "      <td>122.216200</td>\n",
       "      <td>Goldenrod</td>\n",
       "      <td>True</td>\n",
       "      <td>22/03/2019</td>\n",
       "      <td>50265.25</td>\n",
       "      <td>0.4927</td>\n",
       "      <td>25311.79</td>\n",
       "      <td>0.17</td>\n",
       "      <td>216.0</td>\n",
       "      <td>2.2</td>\n",
       "    </tr>\n",
       "    <tr>\n",
       "      <th>2852</th>\n",
       "      <td>Mazda</td>\n",
       "      <td>929</td>\n",
       "      <td>Gustave</td>\n",
       "      <td>Male</td>\n",
       "      <td>Male</td>\n",
       "      <td>50</td>\n",
       "      <td>approach</td>\n",
       "      <td>Italy</td>\n",
       "      <td>Messina</td>\n",
       "      <td>38.178809</td>\n",
       "      <td>15.497618</td>\n",
       "      <td>Green</td>\n",
       "      <td>True</td>\n",
       "      <td>16/05/2003</td>\n",
       "      <td>16794.16</td>\n",
       "      <td>0.1823</td>\n",
       "      <td>25799.29</td>\n",
       "      <td>0.06</td>\n",
       "      <td>211.6</td>\n",
       "      <td>14.4</td>\n",
       "    </tr>\n",
       "    <tr>\n",
       "      <th>771</th>\n",
       "      <td>Lincoln</td>\n",
       "      <td>Continental Mark VII</td>\n",
       "      <td>Sigismundo</td>\n",
       "      <td>Male</td>\n",
       "      <td>Male</td>\n",
       "      <td>53</td>\n",
       "      <td>Universal</td>\n",
       "      <td>Indonesia</td>\n",
       "      <td>Ciranca</td>\n",
       "      <td>-7.023104</td>\n",
       "      <td>108.276307</td>\n",
       "      <td>Aquamarine</td>\n",
       "      <td>True</td>\n",
       "      <td>24/01/2009</td>\n",
       "      <td>65452.22</td>\n",
       "      <td>0.6374</td>\n",
       "      <td>34779.06</td>\n",
       "      <td>0.07</td>\n",
       "      <td>173.1</td>\n",
       "      <td>4.1</td>\n",
       "    </tr>\n",
       "    <tr>\n",
       "      <th>2223</th>\n",
       "      <td>Kia</td>\n",
       "      <td>Sportage</td>\n",
       "      <td>Dennis</td>\n",
       "      <td>Male</td>\n",
       "      <td>Male</td>\n",
       "      <td>49</td>\n",
       "      <td>exuding</td>\n",
       "      <td>Malaysia</td>\n",
       "      <td>Kota Kinabalu</td>\n",
       "      <td>5.984098</td>\n",
       "      <td>116.076112</td>\n",
       "      <td>Teal</td>\n",
       "      <td>True</td>\n",
       "      <td>05/12/2015</td>\n",
       "      <td>53207.13</td>\n",
       "      <td>0.6701</td>\n",
       "      <td>34840.52</td>\n",
       "      <td>0.15</td>\n",
       "      <td>200.3</td>\n",
       "      <td>13.2</td>\n",
       "    </tr>\n",
       "    <tr>\n",
       "      <th>1786</th>\n",
       "      <td>Mercury</td>\n",
       "      <td>Grand Marquis</td>\n",
       "      <td>Lu</td>\n",
       "      <td>Female</td>\n",
       "      <td>Female</td>\n",
       "      <td>53</td>\n",
       "      <td>artificial intelligence</td>\n",
       "      <td>Indonesia</td>\n",
       "      <td>Nangger</td>\n",
       "      <td>-7.027179</td>\n",
       "      <td>113.629392</td>\n",
       "      <td>Khaki</td>\n",
       "      <td>False</td>\n",
       "      <td>25/07/2007</td>\n",
       "      <td>78344.88</td>\n",
       "      <td>0.0913</td>\n",
       "      <td>25678.52</td>\n",
       "      <td>0.02</td>\n",
       "      <td>194.7</td>\n",
       "      <td>13.2</td>\n",
       "    </tr>\n",
       "  </tbody>\n",
       "</table>\n",
       "</div>"
      ],
      "text/plain": [
       "          Make                 Model    Nickname Car Gender Buyer Gender  \\\n",
       "7582  Cadillac              Escalade       Zorah     Female       Female   \n",
       "2852     Mazda                   929     Gustave       Male         Male   \n",
       "771    Lincoln  Continental Mark VII  Sigismundo       Male         Male   \n",
       "2223       Kia              Sportage      Dennis       Male         Male   \n",
       "1786   Mercury         Grand Marquis          Lu     Female       Female   \n",
       "\n",
       "      Buyer Age                 Buzzword    Country           City  \\\n",
       "7582         59       local area network  Indonesia      Tadabliro   \n",
       "2852         50                 approach      Italy        Messina   \n",
       "771          53                Universal  Indonesia        Ciranca   \n",
       "2223         49                  exuding   Malaysia  Kota Kinabalu   \n",
       "1786         53  artificial intelligence  Indonesia        Nangger   \n",
       "\n",
       "      Dealer Latitude  Dealer Longitude       Color  New Car Purchase Date  \\\n",
       "7582        -8.684700        122.216200   Goldenrod     True    22/03/2019   \n",
       "2852        38.178809         15.497618       Green     True    16/05/2003   \n",
       "771         -7.023104        108.276307  Aquamarine     True    24/01/2009   \n",
       "2223         5.984098        116.076112        Teal     True    05/12/2015   \n",
       "1786        -7.027179        113.629392       Khaki    False    25/07/2007   \n",
       "\n",
       "      Sale Price  Discount  Resell Price  5-yr Depreciation  Top Speed  \\\n",
       "7582    50265.25    0.4927      25311.79               0.17      216.0   \n",
       "2852    16794.16    0.1823      25799.29               0.06      211.6   \n",
       "771     65452.22    0.6374      34779.06               0.07      173.1   \n",
       "2223    53207.13    0.6701      34840.52               0.15      200.3   \n",
       "1786    78344.88    0.0913      25678.52               0.02      194.7   \n",
       "\n",
       "      0-60 Time  \n",
       "7582        2.2  \n",
       "2852       14.4  \n",
       "771         4.1  \n",
       "2223       13.2  \n",
       "1786       13.2  "
      ]
     },
     "execution_count": 6,
     "metadata": {},
     "output_type": "execute_result"
    }
   ],
   "source": [
    "data.sample(5)"
   ]
  },
  {
   "cell_type": "markdown",
   "id": "148f420c",
   "metadata": {},
   "source": [
    "Using value_counts method on the Buyer gender field to see the count of unique values for each gender type"
   ]
  },
  {
   "cell_type": "code",
   "execution_count": 7,
   "id": "31952626",
   "metadata": {},
   "outputs": [
    {
     "data": {
      "text/plain": [
       "Female    5052\n",
       "Male      4948\n",
       "Name: Buyer Gender, dtype: int64"
      ]
     },
     "execution_count": 7,
     "metadata": {},
     "output_type": "execute_result"
    }
   ],
   "source": [
    "data['Buyer Gender'].value_counts()"
   ]
  },
  {
   "cell_type": "markdown",
   "id": "cd86975e",
   "metadata": {},
   "source": [
    "Plotting bar graph"
   ]
  },
  {
   "cell_type": "code",
   "execution_count": 8,
   "id": "e0184938",
   "metadata": {
    "scrolled": true
   },
   "outputs": [
    {
     "data": {
      "image/png": "[encoded data removed]",
      "text/plain": [
       "<Figure size 432x288 with 1 Axes>"
      ]
     },
     "metadata": {
      "needs_background": "light"
     },
     "output_type": "display_data"
    }
   ],
   "source": [
    "data['Buyer Gender'].value_counts().plot(kind=\"bar\")\n",
    "plt.xlabel(\"Gender\", labelpad=14)\n",
    "plt.ylabel(\"Count of People\", labelpad=14)\n",
    "plt.title(\"Count of people who participated in sales by gender\", y=1.02)\n",
    "plt.ylim(4500,5500);"
   ]
  },
  {
   "cell_type": "markdown",
   "id": "ed2fc6fd",
   "metadata": {},
   "source": [
    "### 4. Find the top 5 cars based on their sales price."
   ]
  },
  {
   "cell_type": "code",
   "execution_count": 9,
   "id": "97598a1b",
   "metadata": {
    "scrolled": true
   },
   "outputs": [
    {
     "name": "stdout",
     "output_type": "stream",
     "text": [
      "Top 5 cars based on their sales price\n"
     ]
    },
    {
     "data": {
      "text/html": [
       "<style type=\"text/css\">\n",
       "</style>\n",
       "<table id=\"T_c5488_\">\n",
       "  <thead>\n",
       "    <tr>\n",
       "      <th class=\"col_heading level0 col0\" >Make</th>\n",
       "      <th class=\"col_heading level0 col1\" >Model</th>\n",
       "      <th class=\"col_heading level0 col2\" >Sale Price</th>\n",
       "    </tr>\n",
       "  </thead>\n",
       "  <tbody>\n",
       "    <tr>\n",
       "      <td id=\"T_c5488_row0_col0\" class=\"data row0 col0\" >Volkswagen</td>\n",
       "      <td id=\"T_c5488_row0_col1\" class=\"data row0 col1\" >Jetta III</td>\n",
       "      <td id=\"T_c5488_row0_col2\" class=\"data row0 col2\" >99997.650000</td>\n",
       "    </tr>\n",
       "    <tr>\n",
       "      <td id=\"T_c5488_row1_col0\" class=\"data row1 col0\" >Audi</td>\n",
       "      <td id=\"T_c5488_row1_col1\" class=\"data row1 col1\" >A6</td>\n",
       "      <td id=\"T_c5488_row1_col2\" class=\"data row1 col2\" >99991.910000</td>\n",
       "    </tr>\n",
       "    <tr>\n",
       "      <td id=\"T_c5488_row2_col0\" class=\"data row2 col0\" >Lexus</td>\n",
       "      <td id=\"T_c5488_row2_col1\" class=\"data row2 col1\" >LX</td>\n",
       "      <td id=\"T_c5488_row2_col2\" class=\"data row2 col2\" >99983.380000</td>\n",
       "    </tr>\n",
       "    <tr>\n",
       "      <td id=\"T_c5488_row3_col0\" class=\"data row3 col0\" >Mazda</td>\n",
       "      <td id=\"T_c5488_row3_col1\" class=\"data row3 col1\" >MX-6</td>\n",
       "      <td id=\"T_c5488_row3_col2\" class=\"data row3 col2\" >99978.170000</td>\n",
       "    </tr>\n",
       "    <tr>\n",
       "      <td id=\"T_c5488_row4_col0\" class=\"data row4 col0\" >Lexus</td>\n",
       "      <td id=\"T_c5488_row4_col1\" class=\"data row4 col1\" >ES</td>\n",
       "      <td id=\"T_c5488_row4_col2\" class=\"data row4 col2\" >99973.440000</td>\n",
       "    </tr>\n",
       "  </tbody>\n",
       "</table>\n"
      ],
      "text/plain": [
       "<pandas.io.formats.style.Styler at 0x20278658400>"
      ]
     },
     "execution_count": 9,
     "metadata": {},
     "output_type": "execute_result"
    }
   ],
   "source": [
    "data1=data.sort_values(by='Sale Price',ascending=False).head(5)\n",
    "\n",
    "print(\"Top 5 cars based on their sales price\")\n",
    "\n",
    "data1[[\"Make\",\"Model\",\"Sale Price\"]].style.hide_index()"
   ]
  },
  {
   "cell_type": "markdown",
   "id": "0944ebd6",
   "metadata": {},
   "source": [
    "### 5. Find the least 5 cars based on their Resell price"
   ]
  },
  {
   "cell_type": "code",
   "execution_count": 10,
   "id": "ab9ab256",
   "metadata": {},
   "outputs": [
    {
     "name": "stdout",
     "output_type": "stream",
     "text": [
      "Least 5 cars based on their Resell price\n"
     ]
    },
    {
     "data": {
      "text/html": [
       "<style type=\"text/css\">\n",
       "</style>\n",
       "<table id=\"T_a6ebe_\">\n",
       "  <thead>\n",
       "    <tr>\n",
       "      <th class=\"col_heading level0 col0\" >Make</th>\n",
       "      <th class=\"col_heading level0 col1\" >Model</th>\n",
       "      <th class=\"col_heading level0 col2\" >Resell Price</th>\n",
       "    </tr>\n",
       "  </thead>\n",
       "  <tbody>\n",
       "    <tr>\n",
       "      <td id=\"T_a6ebe_row0_col0\" class=\"data row0 col0\" >Chevrolet</td>\n",
       "      <td id=\"T_a6ebe_row0_col1\" class=\"data row0 col1\" >1500</td>\n",
       "      <td id=\"T_a6ebe_row0_col2\" class=\"data row0 col2\" >2000.840000</td>\n",
       "    </tr>\n",
       "    <tr>\n",
       "      <td id=\"T_a6ebe_row1_col0\" class=\"data row1 col0\" >GMC</td>\n",
       "      <td id=\"T_a6ebe_row1_col1\" class=\"data row1 col1\" >Savana 1500</td>\n",
       "      <td id=\"T_a6ebe_row1_col2\" class=\"data row1 col2\" >2005.440000</td>\n",
       "    </tr>\n",
       "    <tr>\n",
       "      <td id=\"T_a6ebe_row2_col0\" class=\"data row2 col0\" >Jaguar</td>\n",
       "      <td id=\"T_a6ebe_row2_col1\" class=\"data row2 col1\" >XF</td>\n",
       "      <td id=\"T_a6ebe_row2_col2\" class=\"data row2 col2\" >2014.090000</td>\n",
       "    </tr>\n",
       "    <tr>\n",
       "      <td id=\"T_a6ebe_row3_col0\" class=\"data row3 col0\" >Mitsubishi</td>\n",
       "      <td id=\"T_a6ebe_row3_col1\" class=\"data row3 col1\" >3000GT</td>\n",
       "      <td id=\"T_a6ebe_row3_col2\" class=\"data row3 col2\" >2017.240000</td>\n",
       "    </tr>\n",
       "    <tr>\n",
       "      <td id=\"T_a6ebe_row4_col0\" class=\"data row4 col0\" >Infiniti</td>\n",
       "      <td id=\"T_a6ebe_row4_col1\" class=\"data row4 col1\" >G37</td>\n",
       "      <td id=\"T_a6ebe_row4_col2\" class=\"data row4 col2\" >2017.830000</td>\n",
       "    </tr>\n",
       "  </tbody>\n",
       "</table>\n"
      ],
      "text/plain": [
       "<pandas.io.formats.style.Styler at 0x2027df72100>"
      ]
     },
     "execution_count": 10,
     "metadata": {},
     "output_type": "execute_result"
    }
   ],
   "source": [
    "data2=data.sort_values(by='Resell Price').head(5)\n",
    "\n",
    "print(\"Least 5 cars based on their Resell price\")\n",
    "\n",
    "data2[[\"Make\",\"Model\",\"Resell Price\"]].style.hide_index()"
   ]
  }
 ],
 "metadata": {
  "kernelspec": {
   "display_name": "Python 3 (ipykernel)",
   "language": "python",
   "name": "python3"
  },
  "language_info": {
   "codemirror_mode": {
    "name": "ipython",
    "version": 3
   },
   "file_extension": ".py",
   "mimetype": "text/x-python",
   "name": "python",
   "nbconvert_exporter": "python",
   "pygments_lexer": "ipython3",
   "version": "3.8.8"
  }
 },
 "nbformat": 4,
 "nbformat_minor": 5
}
