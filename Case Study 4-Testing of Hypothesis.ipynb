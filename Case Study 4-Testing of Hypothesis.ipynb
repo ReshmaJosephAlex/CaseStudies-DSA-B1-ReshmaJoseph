{
 "cells": [
  {
   "cell_type": "markdown",
   "id": "812ad3fa",
   "metadata": {},
   "source": [
    "# Case Study 4: Testing of Hypothesis\n",
    "\n",
    "### A company started to invest in digital marketing as a new way of their product promotions.For that they collected data and decided to carry out a study on it.\n",
    "### 1. The company wishes to clarify whether there is any increase in sales after stepping into digital marketing.\n",
    "### 2. The company needs to check whether there is any dependency between the features “Region” and “Manager”.\n",
    "### Help the company to carry out their study with the help of data provided."
   ]
  },
  {
   "cell_type": "markdown",
   "id": "0d6e0881",
   "metadata": {},
   "source": [
    "Importing required libraries and packages"
   ]
  },
  {
   "cell_type": "code",
   "execution_count": 1,
   "id": "a87ac1c8",
   "metadata": {},
   "outputs": [],
   "source": [
    "import pandas as pd\n",
    "import numpy as np\n",
    "import scipy.stats as stats\n",
    "from scipy.stats import chi2_contingency"
   ]
  },
  {
   "cell_type": "markdown",
   "id": "efe0ca8e",
   "metadata": {},
   "source": [
    "Descriptive analytics on the dataset."
   ]
  },
  {
   "cell_type": "code",
   "execution_count": 2,
   "id": "3eb9acf5",
   "metadata": {},
   "outputs": [],
   "source": [
    "data=pd.read_csv(\"Sales_add.csv\")"
   ]
  },
  {
   "cell_type": "code",
   "execution_count": 3,
   "id": "32a4044f",
   "metadata": {},
   "outputs": [
    {
     "data": {
      "text/html": [
       "<div>\n",
       "<style scoped>\n",
       "    .dataframe tbody tr th:only-of-type {\n",
       "        vertical-align: middle;\n",
       "    }\n",
       "\n",
       "    .dataframe tbody tr th {\n",
       "        vertical-align: top;\n",
       "    }\n",
       "\n",
       "    .dataframe thead th {\n",
       "        text-align: right;\n",
       "    }\n",
       "</style>\n",
       "<table border=\"1\" class=\"dataframe\">\n",
       "  <thead>\n",
       "    <tr style=\"text-align: right;\">\n",
       "      <th></th>\n",
       "      <th>Month</th>\n",
       "      <th>Region</th>\n",
       "      <th>Manager</th>\n",
       "      <th>Sales_before_digital_add(in $)</th>\n",
       "      <th>Sales_After_digital_add(in $)</th>\n",
       "    </tr>\n",
       "  </thead>\n",
       "  <tbody>\n",
       "    <tr>\n",
       "      <th>0</th>\n",
       "      <td>Month-1</td>\n",
       "      <td>Region - A</td>\n",
       "      <td>Manager - A</td>\n",
       "      <td>132921</td>\n",
       "      <td>270390</td>\n",
       "    </tr>\n",
       "    <tr>\n",
       "      <th>1</th>\n",
       "      <td>Month-2</td>\n",
       "      <td>Region - A</td>\n",
       "      <td>Manager - C</td>\n",
       "      <td>149559</td>\n",
       "      <td>223334</td>\n",
       "    </tr>\n",
       "    <tr>\n",
       "      <th>2</th>\n",
       "      <td>Month-3</td>\n",
       "      <td>Region - B</td>\n",
       "      <td>Manager - A</td>\n",
       "      <td>146278</td>\n",
       "      <td>244243</td>\n",
       "    </tr>\n",
       "    <tr>\n",
       "      <th>3</th>\n",
       "      <td>Month-4</td>\n",
       "      <td>Region - B</td>\n",
       "      <td>Manager - B</td>\n",
       "      <td>152167</td>\n",
       "      <td>231808</td>\n",
       "    </tr>\n",
       "    <tr>\n",
       "      <th>4</th>\n",
       "      <td>Month-5</td>\n",
       "      <td>Region - C</td>\n",
       "      <td>Manager - B</td>\n",
       "      <td>159525</td>\n",
       "      <td>258402</td>\n",
       "    </tr>\n",
       "  </tbody>\n",
       "</table>\n",
       "</div>"
      ],
      "text/plain": [
       "     Month      Region      Manager  Sales_before_digital_add(in $)  \\\n",
       "0  Month-1  Region - A  Manager - A                          132921   \n",
       "1  Month-2  Region - A  Manager - C                          149559   \n",
       "2  Month-3  Region - B  Manager - A                          146278   \n",
       "3  Month-4  Region - B  Manager - B                          152167   \n",
       "4  Month-5  Region - C  Manager - B                          159525   \n",
       "\n",
       "   Sales_After_digital_add(in $)  \n",
       "0                         270390  \n",
       "1                         223334  \n",
       "2                         244243  \n",
       "3                         231808  \n",
       "4                         258402  "
      ]
     },
     "execution_count": 3,
     "metadata": {},
     "output_type": "execute_result"
    }
   ],
   "source": [
    "data.head()"
   ]
  },
  {
   "cell_type": "code",
   "execution_count": 4,
   "id": "5882e2b3",
   "metadata": {},
   "outputs": [
    {
     "name": "stdout",
     "output_type": "stream",
     "text": [
      "<class 'pandas.core.frame.DataFrame'>\n",
      "RangeIndex: 22 entries, 0 to 21\n",
      "Data columns (total 5 columns):\n",
      " #   Column                          Non-Null Count  Dtype \n",
      "---  ------                          --------------  ----- \n",
      " 0   Month                           22 non-null     object\n",
      " 1   Region                          22 non-null     object\n",
      " 2   Manager                         22 non-null     object\n",
      " 3   Sales_before_digital_add(in $)  22 non-null     int64 \n",
      " 4   Sales_After_digital_add(in $)   22 non-null     int64 \n",
      "dtypes: int64(2), object(3)\n",
      "memory usage: 1008.0+ bytes\n"
     ]
    }
   ],
   "source": [
    "data.info()"
   ]
  },
  {
   "cell_type": "code",
   "execution_count": 5,
   "id": "d8936c81",
   "metadata": {},
   "outputs": [
    {
     "data": {
      "text/html": [
       "<div>\n",
       "<style scoped>\n",
       "    .dataframe tbody tr th:only-of-type {\n",
       "        vertical-align: middle;\n",
       "    }\n",
       "\n",
       "    .dataframe tbody tr th {\n",
       "        vertical-align: top;\n",
       "    }\n",
       "\n",
       "    .dataframe thead th {\n",
       "        text-align: right;\n",
       "    }\n",
       "</style>\n",
       "<table border=\"1\" class=\"dataframe\">\n",
       "  <thead>\n",
       "    <tr style=\"text-align: right;\">\n",
       "      <th></th>\n",
       "      <th>Sales_before_digital_add(in $)</th>\n",
       "      <th>Sales_After_digital_add(in $)</th>\n",
       "    </tr>\n",
       "  </thead>\n",
       "  <tbody>\n",
       "    <tr>\n",
       "      <th>count</th>\n",
       "      <td>22.000000</td>\n",
       "      <td>22.000000</td>\n",
       "    </tr>\n",
       "    <tr>\n",
       "      <th>mean</th>\n",
       "      <td>149239.954545</td>\n",
       "      <td>231123.727273</td>\n",
       "    </tr>\n",
       "    <tr>\n",
       "      <th>std</th>\n",
       "      <td>14844.042921</td>\n",
       "      <td>25556.777061</td>\n",
       "    </tr>\n",
       "    <tr>\n",
       "      <th>min</th>\n",
       "      <td>130263.000000</td>\n",
       "      <td>187305.000000</td>\n",
       "    </tr>\n",
       "    <tr>\n",
       "      <th>25%</th>\n",
       "      <td>138087.750000</td>\n",
       "      <td>214960.750000</td>\n",
       "    </tr>\n",
       "    <tr>\n",
       "      <th>50%</th>\n",
       "      <td>147444.000000</td>\n",
       "      <td>229986.500000</td>\n",
       "    </tr>\n",
       "    <tr>\n",
       "      <th>75%</th>\n",
       "      <td>157627.500000</td>\n",
       "      <td>250909.000000</td>\n",
       "    </tr>\n",
       "    <tr>\n",
       "      <th>max</th>\n",
       "      <td>178939.000000</td>\n",
       "      <td>276279.000000</td>\n",
       "    </tr>\n",
       "  </tbody>\n",
       "</table>\n",
       "</div>"
      ],
      "text/plain": [
       "       Sales_before_digital_add(in $)  Sales_After_digital_add(in $)\n",
       "count                       22.000000                      22.000000\n",
       "mean                    149239.954545                  231123.727273\n",
       "std                      14844.042921                   25556.777061\n",
       "min                     130263.000000                  187305.000000\n",
       "25%                     138087.750000                  214960.750000\n",
       "50%                     147444.000000                  229986.500000\n",
       "75%                     157627.500000                  250909.000000\n",
       "max                     178939.000000                  276279.000000"
      ]
     },
     "execution_count": 5,
     "metadata": {},
     "output_type": "execute_result"
    }
   ],
   "source": [
    "data.describe()"
   ]
  },
  {
   "cell_type": "code",
   "execution_count": 6,
   "id": "0f71b147",
   "metadata": {},
   "outputs": [
    {
     "data": {
      "text/plain": [
       "Month                             object\n",
       "Region                            object\n",
       "Manager                           object\n",
       "Sales_before_digital_add(in $)     int64\n",
       "Sales_After_digital_add(in $)      int64\n",
       "dtype: object"
      ]
     },
     "execution_count": 6,
     "metadata": {},
     "output_type": "execute_result"
    }
   ],
   "source": [
    "data.dtypes"
   ]
  },
  {
   "cell_type": "markdown",
   "id": "f8a8af0b",
   "metadata": {},
   "source": [
    "### 1. The company wishes to clarify whether there is any increase in sales after stepping into digital marketing."
   ]
  },
  {
   "cell_type": "code",
   "execution_count": 7,
   "id": "5beaa817",
   "metadata": {},
   "outputs": [],
   "source": [
    "before=data['Sales_before_digital_add(in $)']\n",
    "after=data['Sales_After_digital_add(in $)']"
   ]
  },
  {
   "cell_type": "code",
   "execution_count": 8,
   "id": "1c80a268",
   "metadata": {},
   "outputs": [
    {
     "data": {
      "text/plain": [
       "0    132921\n",
       "1    149559\n",
       "2    146278\n",
       "3    152167\n",
       "4    159525\n",
       "Name: Sales_before_digital_add(in $), dtype: int64"
      ]
     },
     "execution_count": 8,
     "metadata": {},
     "output_type": "execute_result"
    }
   ],
   "source": [
    "before.head()"
   ]
  },
  {
   "cell_type": "code",
   "execution_count": 9,
   "id": "8d592215",
   "metadata": {},
   "outputs": [
    {
     "data": {
      "text/plain": [
       "0    270390\n",
       "1    223334\n",
       "2    244243\n",
       "3    231808\n",
       "4    258402\n",
       "Name: Sales_After_digital_add(in $), dtype: int64"
      ]
     },
     "execution_count": 9,
     "metadata": {},
     "output_type": "execute_result"
    }
   ],
   "source": [
    "after.head()"
   ]
  },
  {
   "cell_type": "markdown",
   "id": "19363335",
   "metadata": {},
   "source": [
    "#### The aim of the test is to conclude whether there is any increase in sales after stepping into digital marketing.\n",
    "\n",
    "##### Null hypothesis: There is no increase in sales after stepping into digital marketing, i.e, mean of sales after <=  mean of sales before\n",
    "##### Alternative hypothesis: Sales show an increase with digital marketing i.e, mean of sales after > mean of sales before\n"
   ]
  },
  {
   "cell_type": "markdown",
   "id": "dfc1cb6a",
   "metadata": {},
   "source": [
    "Level of significance: \n",
    "    Refers to the degree of significance in which we accept or reject the null-hypothesis.\n",
    "    This is normally denoted with alpha and generally it is 0.05 or 5% , which means your output should be 95%  confident to give similar kind of result in each sample."
   ]
  },
  {
   "cell_type": "markdown",
   "id": "ae40cbf6",
   "metadata": {},
   "source": [
    "alpha = 0.05"
   ]
  },
  {
   "cell_type": "markdown",
   "id": "2246a90f",
   "metadata": {},
   "source": [
    "Here sample size<30 hence we resort to t test. We are testing 2 samples of data (sales before and after digital marketing) and also alternative hypothesis is one directional which implies one tailed t test"
   ]
  },
  {
   "cell_type": "markdown",
   "id": "ad6d7626",
   "metadata": {},
   "source": [
    "We use the ttest_ind method to carry out the independent samples t-test. Here, we used the Pandas series’ we previously created (subsets), and set the equal_var parameter to True. "
   ]
  },
  {
   "cell_type": "markdown",
   "id": "84f1e5d3",
   "metadata": {},
   "source": [
    "When you call scipy.stats.ttest_ind(before, after), this makes a Hypothesis Test on the value of before.mean()-after.mean()"
   ]
  },
  {
   "cell_type": "code",
   "execution_count": 10,
   "id": "fcd13b10",
   "metadata": {},
   "outputs": [
    {
     "data": {
      "text/plain": [
       "Ttest_indResult(statistic=-12.995084451110877, pvalue=2.614368006904645e-16)"
      ]
     },
     "execution_count": 10,
     "metadata": {},
     "output_type": "execute_result"
    }
   ],
   "source": [
    "res = stats.ttest_ind(before,after,equal_var=True)\n",
    "res"
   ]
  },
  {
   "cell_type": "markdown",
   "id": "c230562a",
   "metadata": {},
   "source": [
    "This is the output for a two-tailed t-test we must divide the p by 2 for our one-tailed test. So depending on the Significance Level alpha, you need\n",
    "\n",
    "p/2 < alpha\n",
    "\n",
    "in order to reject the Null Hypothesis H0. For alpha=0.05 this is clearly not the case so you cannot reject H0."
   ]
  },
  {
   "cell_type": "markdown",
   "id": "24c5c7ac",
   "metadata": {},
   "source": [
    "#### Conclusion: \n",
    "\n",
    "##### >> p/2 value(1.3) is more than significance level(0.05) which implies null hypothesis is true. Ie there is no increase in sales after stepping into digital marketing"
   ]
  },
  {
   "cell_type": "markdown",
   "id": "a3764e5e",
   "metadata": {},
   "source": [
    "# ----------------------------------------------------------------------------------------------------------"
   ]
  },
  {
   "cell_type": "markdown",
   "id": "dac4c52a",
   "metadata": {},
   "source": [
    "### 2. The company needs to check whether there is any dependency between the features “Region” and “Manager”."
   ]
  },
  {
   "cell_type": "markdown",
   "id": "d83565fb",
   "metadata": {},
   "source": [
    "The Pearson’s Chi-Square statistical hypothesis is a test for independence between categorical variables"
   ]
  },
  {
   "cell_type": "markdown",
   "id": "7cd8d7d9",
   "metadata": {},
   "source": [
    "A Contingency table (also called crosstab) is used in statistics to summarise the relationship between several categorical variables. "
   ]
  },
  {
   "cell_type": "markdown",
   "id": "8df6f053",
   "metadata": {},
   "source": [
    "Contingency Table showing correlation between Region and Manager."
   ]
  },
  {
   "cell_type": "code",
   "execution_count": 11,
   "id": "e6a3da6a",
   "metadata": {},
   "outputs": [
    {
     "name": "stdout",
     "output_type": "stream",
     "text": [
      "Region       Region - A  Region - B  Region - C\n",
      "Manager                                        \n",
      "Manager - A           4           4           1\n",
      "Manager - B           3           1           3\n",
      "Manager - C           3           2           1\n"
     ]
    }
   ],
   "source": [
    "data_crosstab = pd.crosstab(data['Manager'], data['Region'], margins = False)\n",
    "                         \n",
    "print(data_crosstab)"
   ]
  },
  {
   "cell_type": "markdown",
   "id": "d0764d79",
   "metadata": {},
   "source": [
    "#### The aim of the test is to conclude whether the two variables( Manager and Region) are related to each other."
   ]
  },
  {
   "cell_type": "markdown",
   "id": "de8467b6",
   "metadata": {},
   "source": [
    "#####  Null hypothesis (H0) :There is no relation between the variables. \n",
    "##### Alternate hypothesis (Ha): There is a significant relation between the two."
   ]
  },
  {
   "cell_type": "markdown",
   "id": "c95162e1",
   "metadata": {},
   "source": [
    "We can verify the hypothesis by using p-value:\n",
    "\n",
    "We define a significance factor to determine whether the relation between the variables is of considerable significance. Generally a significance factor or alpha value of 0.05 is chosen. This alpha value denotes the probability of erroneously rejecting H0 when it is true.If the p-value for the test comes out to be strictly greater than the alpha value, then H0 holds true.\n",
    "\n"
   ]
  },
  {
   "cell_type": "markdown",
   "id": "0af1597c",
   "metadata": {},
   "source": [
    "The chi2_contingency() function of scipy.stats module takes as input, the contingency table in 2d array format. It returns a tuple containing test statistics, the p-value, degrees of freedom and expected table(the one we created from the calculated values) in that order."
   ]
  },
  {
   "cell_type": "code",
   "execution_count": 12,
   "id": "141601b9",
   "metadata": {
    "scrolled": false
   },
   "outputs": [],
   "source": [
    "data1 = [[4, 4, 1], [3, 1, 3],[3,2,1]]\n",
    "stat, p, dof, expected = chi2_contingency(data1)"
   ]
  },
  {
   "cell_type": "markdown",
   "id": "dfe40088",
   "metadata": {},
   "source": [
    "Hence, we need to compare the obtained p-value with alpha value of 0.05."
   ]
  },
  {
   "cell_type": "code",
   "execution_count": 13,
   "id": "fbdc5139",
   "metadata": {},
   "outputs": [
    {
     "name": "stdout",
     "output_type": "stream",
     "text": [
      "p value is 0.5493991051158094\n",
      "Independent (H0 holds true)\n"
     ]
    }
   ],
   "source": [
    "alpha = 0.05\n",
    "print(\"p value is \" + str(p))\n",
    "if p <= alpha:\n",
    "    print('Dependent (reject H0)')\n",
    "else:\n",
    "    print('Independent (H0 holds true)')"
   ]
  },
  {
   "cell_type": "markdown",
   "id": "48a842d0",
   "metadata": {},
   "source": [
    "####  Conclusion\n",
    "\n",
    "#### p-value > alpha , we accept H0, that is, the variables do not have a significant relation."
   ]
  }
 ],
 "metadata": {
  "kernelspec": {
   "display_name": "Python 3 (ipykernel)",
   "language": "python",
   "name": "python3"
  },
  "language_info": {
   "codemirror_mode": {
    "name": "ipython",
    "version": 3
   },
   "file_extension": ".py",
   "mimetype": "text/x-python",
   "name": "python",
   "nbconvert_exporter": "python",
   "pygments_lexer": "ipython3",
   "version": "3.8.8"
  }
 },
 "nbformat": 4,
 "nbformat_minor": 5
}
